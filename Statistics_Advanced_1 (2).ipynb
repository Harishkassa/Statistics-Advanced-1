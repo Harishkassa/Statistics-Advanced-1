{
  "nbformat": 4,
  "nbformat_minor": 0,
  "metadata": {
    "colab": {
      "provenance": []
    },
    "kernelspec": {
      "name": "python3",
      "display_name": "Python 3"
    },
    "language_info": {
      "name": "python"
    }
  },
  "cells": [
    {
      "cell_type": "markdown",
      "source": [
        "1. What is a random variable in probability theory?"
      ],
      "metadata": {
        "id": "6pSbNsX8R7UT"
      }
    },
    {
      "cell_type": "markdown",
      "source": [
        "-> Random Variable is the process where we assign numerical values to difeerent possible outcomes of random experiment\n",
        "\n",
        "if you toss a coin, you could define a random variable\n",
        "X where:\n",
        "\n",
        "X(Heads)=1\n",
        "X(Tails)=0"
      ],
      "metadata": {
        "id": "6d3AOZogR-FH"
      }
    },
    {
      "cell_type": "markdown",
      "source": [
        "2. What are the types of random variables?"
      ],
      "metadata": {
        "id": "Ny3SvsqWR-Cw"
      }
    },
    {
      "cell_type": "markdown",
      "source": [
        "-> There are tqwo types of Random variables which is given below....\n",
        "\n",
        "1) Discrete Random variable:\n",
        "a discrete random varible is the function in which the different possible outcomes of variables are countable for ex. Tossing a coin ( possible outcomes is 2 )\n",
        "\n",
        "it is also called as probability mass function.\n",
        "\n",
        "2) Continous Random varibales:\n",
        "a continuos random variable is the function in which the different possible outcomes is infinite that's why the outcomes is not countable it's in the range. for ex. height of the students is between 145- 160 cm.\n",
        "\n",
        "the exact value's poribability is always 0\n",
        "\n",
        "it is also called as probability density function."
      ],
      "metadata": {
        "id": "a6oIm6ZRR9_-"
      }
    },
    {
      "cell_type": "markdown",
      "source": [
        "3. Explain the difference between discrete and continuous distributions."
      ],
      "metadata": {
        "id": "lJ-wLVORR99N"
      }
    },
    {
      "cell_type": "markdown",
      "source": [
        "-> In discrete distribution the outcomes is coutable the curve of this is something like a bar chart becuase we calculate.\n",
        "\n",
        "-> In cotinuos distribution the outcomes is not countable (it's in the range) the curve is like normal ditrbution or skewed curved accroding to data's nature\n"
      ],
      "metadata": {
        "id": "QoUAPp_JR96b"
      }
    },
    {
      "cell_type": "markdown",
      "source": [
        "4. What is a binomial distribution, and how is it used in probability?"
      ],
      "metadata": {
        "id": "cJTStVsiR93s"
      }
    },
    {
      "cell_type": "markdown",
      "source": [
        "-> Binomial distribution is distribution method in which there is multiple independent trials of bernouli distribution\n",
        "\n",
        "this is used when we getting the exactly k successes in the multiple trials of berouli"
      ],
      "metadata": {
        "id": "-t955r28R905"
      }
    },
    {
      "cell_type": "markdown",
      "source": [
        "5. What is the standard normal distribution, and why is it important?"
      ],
      "metadata": {
        "id": "2MUr9T8eR9yP"
      }
    },
    {
      "cell_type": "markdown",
      "source": [
        "-> Standsard normal distribution is used for standardize the normal distribtuion curve where in which the mean is 0 and standard deviation is 1.\n",
        "\n",
        "It's important for standardize the distribution it helping to anaylze the spread of the data very well"
      ],
      "metadata": {
        "id": "V1VmyVinR9vm"
      }
    },
    {
      "cell_type": "markdown",
      "source": [
        "6. What is the Central Limit Theorem (CLT), and why is it critical in statistics?"
      ],
      "metadata": {
        "id": "9ZrsbiDgR9s-"
      }
    },
    {
      "cell_type": "markdown",
      "source": [
        "-> The Central Limit Theorem describes how the distribution of sample means approaches a normal distribution as the sample size increases, regardless of the population’s original distribution. Even if population distribution is non normal it does not matter"
      ],
      "metadata": {
        "id": "kJU7XnXAR9qO"
      }
    },
    {
      "cell_type": "markdown",
      "source": [
        "7. What is the significance of confidence intervals in statistical analysis?"
      ],
      "metadata": {
        "id": "1dl1YZ13R9na"
      }
    },
    {
      "cell_type": "markdown",
      "source": [
        "-> confidence interval is a range of value in which is the original population parameter is actually lie or true.\n",
        "\n",
        "for ex. for alpha = 0.05\n",
        "confidence interval is between +1.96 and -1.96"
      ],
      "metadata": {
        "id": "s7h4e_jAR9ks"
      }
    },
    {
      "cell_type": "markdown",
      "source": [
        "8. What is the concept of expected value in a probability distribution?"
      ],
      "metadata": {
        "id": "DgYAggh4R9jE"
      }
    },
    {
      "cell_type": "markdown",
      "source": [
        "-> In probability distribution expected value is average of any long run of random experiment"
      ],
      "metadata": {
        "id": "_tqVg6tLR9hf"
      }
    },
    {
      "cell_type": "markdown",
      "source": [
        "9. Write a Python program to generate 1000 random numbers from a normal\n",
        "distribution with mean = 50 and standard deviation = 5. Compute its mean and standard\n",
        "deviation using NumPy, and draw a histogram to visualize the distribution.\n",
        "(Include your Python code and output in the code box below.)"
      ],
      "metadata": {
        "id": "0DYh-A46R9gA"
      }
    },
    {
      "cell_type": "code",
      "source": [
        "import numpy as np\n",
        "\n",
        "res = np.random.normal(1,100,1000)\n",
        "print(res)"
      ],
      "metadata": {
        "colab": {
          "base_uri": "https://localhost:8080/"
        },
        "collapsed": true,
        "id": "B-SFNlZrF6Qb",
        "outputId": "60021ab6-36e3-4990-ce47-e08395be6553"
      },
      "execution_count": 16,
      "outputs": [
        {
          "output_type": "stream",
          "name": "stdout",
          "text": [
            "[ 6.02139546e+01 -3.12049089e+01 -2.69026277e+01 -6.32415830e+01\n",
            "  1.33751369e+02 -1.11102101e+02 -9.80951142e+01  4.59447105e+00\n",
            " -2.12309281e+02  7.38623492e+01 -2.16259835e+01  1.03999294e+02\n",
            " -2.54944376e+00  1.13945015e+02 -1.78079619e+01  9.31284804e+01\n",
            "  2.21882576e+01  1.03406019e+01  1.44509884e+02 -1.77019987e+02\n",
            " -2.13670879e+02 -1.33207895e+02 -1.13696304e+01 -1.41162101e+02\n",
            " -1.45190597e+01 -5.27441293e+01 -1.90068333e+01  4.61981477e+01\n",
            " -5.83643858e+01 -1.24220286e+02  1.29998443e+02  6.48473870e+01\n",
            "  1.29472419e+02 -1.66450931e+02 -1.28507405e+02  5.15636163e+01\n",
            "  2.08652613e+01  5.64267729e+01  2.30133405e+01 -1.36084144e+02\n",
            "  5.29136690e+01 -2.00553644e+01 -9.27921254e-01  1.04533722e+00\n",
            " -9.37489963e+01  1.49761473e+02 -9.63556974e+01 -5.41840764e+01\n",
            " -2.19097592e+01 -1.33463872e+02 -1.39831749e+02 -8.44166209e+01\n",
            " -8.92437261e+01 -2.32669789e+01  8.97599390e+01 -1.10531665e+02\n",
            "  4.24825728e+01 -2.02524663e+01  1.16959291e+02  6.30190133e+01\n",
            "  1.20175805e+01  1.00442186e+02  4.38079988e+01 -1.00927541e+02\n",
            "  6.86818351e+01  3.09556850e+01  2.20196515e+01 -4.45996169e+01\n",
            " -6.10774311e+01 -8.23513218e+01  1.22264425e+02 -1.46297653e+01\n",
            " -8.27103503e+01  1.35245272e+02  9.18523959e+00 -1.07832925e+02\n",
            " -1.30311283e+02 -1.97520388e+02  1.17383483e+02  2.65569699e+01\n",
            " -5.90641384e+01  1.78990983e+01 -8.16091196e+01  5.25201496e+01\n",
            " -1.46470750e+02  3.91431753e+01  2.83723589e+01  4.42537993e+01\n",
            "  7.36231949e+00  9.71612540e+01  6.21697770e+01  6.42920362e+01\n",
            "  6.84638429e+01  5.10265075e+01 -2.67042173e+01  6.54744227e+01\n",
            " -1.57346837e+01  4.23286607e+01 -3.13881436e+01 -5.60101633e+01\n",
            " -8.28181952e+01  2.99946539e+02  7.00181127e+01  5.18149029e+01\n",
            " -8.29526565e+01  3.04009093e+00 -1.54579568e+02 -9.38222817e+01\n",
            "  1.17137348e+02  2.81337371e+01  2.49742645e+02  4.75310496e+01\n",
            " -3.49491982e+01  5.19176710e+01 -5.02369667e+00 -4.71237764e+01\n",
            "  1.04719236e+02  3.17589878e+01  3.30253791e+01 -4.75193424e+01\n",
            " -5.06805727e+01  2.18881652e+02 -8.06457118e+00  4.14341313e+01\n",
            " -8.12779690e+01  2.50580264e+02  3.23928748e+01  9.83571077e+01\n",
            "  8.01844421e+01 -5.93246345e+01 -1.93101984e+01  1.02967540e+02\n",
            "  1.07043877e+02  1.18198185e+01  1.39064005e+02 -1.76717925e+02\n",
            "  1.51638329e+02 -3.82125951e+01  5.28818030e+01  7.07440161e+01\n",
            "  1.88651490e+01  2.49161980e+00 -5.36126611e+01  1.30179843e+02\n",
            "  6.70714511e+01 -6.65486519e+01  3.77832522e+01  1.67817122e+02\n",
            " -1.68978043e+01 -2.91062402e+01 -2.17783623e+01  2.06714435e+02\n",
            " -5.31677603e+01 -2.55027340e+01  6.34471599e+01 -2.69319489e+01\n",
            " -1.12353351e+02 -1.20582258e+02 -1.54001272e+02  4.45506087e+01\n",
            "  2.22348689e+01  2.05574808e+02  1.09335416e+02 -1.90152452e+01\n",
            " -1.63706181e+01 -4.76616025e+01 -7.42176984e+01 -4.23421359e+01\n",
            "  1.59128969e+02  3.41868248e+00  6.64235401e+01  4.76500666e+00\n",
            "  4.37624390e+01  9.27605911e+01  4.81912112e+01  1.67207146e+02\n",
            " -1.90737017e+02  5.85532182e+01 -1.02477983e+01  1.48946589e+02\n",
            "  2.51785941e+02 -1.00052874e+02 -2.75460201e+02 -5.14594444e+01\n",
            " -1.96542011e+01 -1.13155171e+02  7.31175483e+01  1.16428301e+02\n",
            " -3.94627066e+01 -3.00270524e+01 -1.63114087e+02 -5.83785500e+01\n",
            " -8.59118446e+01  1.24585366e+02 -1.01791181e+02  4.82885147e+01\n",
            "  8.38769618e+01  5.83759276e+01 -1.19561993e+02  1.24898857e+02\n",
            "  1.36923995e+02  2.26604228e+01 -2.79133341e+01  8.82935918e+01\n",
            " -1.10253775e+01 -1.44314639e+01  3.64382401e+01  1.89840561e+02\n",
            " -1.53055713e+02  1.24478356e+01 -1.89493880e+01  1.75518834e+02\n",
            "  2.35770793e+01  1.17143292e+02 -1.69187106e+02 -7.24256593e+01\n",
            "  6.23658280e+01  1.55599853e+01  8.21932059e+01  6.05797706e+01\n",
            "  4.85475707e+01 -8.29897970e+01  1.25061015e+02  1.89623311e+02\n",
            " -3.64945351e+01 -6.84841923e+01  1.95245331e+02 -4.60322979e+01\n",
            "  1.47037401e+01  3.14496425e+01 -1.05449346e+02  1.15895446e+02\n",
            " -1.32118314e+02 -8.01507057e+01  2.29529206e+02 -2.28296660e+02\n",
            " -6.91691798e-02  1.86735719e+02  6.74687793e+01 -2.08455627e+02\n",
            "  7.16156051e+01  1.13746560e+01  8.82321439e+01  3.97150480e+01\n",
            " -2.21819621e+02  8.39323531e+01 -6.46936134e-01  7.12646866e+01\n",
            "  6.28865370e+00 -6.31157590e+01  3.30952736e+01  2.00521800e+02\n",
            " -5.53343052e+01  5.33376972e+01 -1.56791563e+02  6.23227355e+01\n",
            "  9.64549524e+01 -6.31256326e+01  1.80916214e+01  1.38175555e+02\n",
            " -1.09811225e+02  3.31867579e+01 -8.67861564e+01 -9.64078598e+01\n",
            " -5.12889223e+01  3.51745346e+01  6.56686309e+01  9.17726167e+01\n",
            " -6.34403053e+01 -2.37760406e+01 -1.91106663e+02 -1.05204887e+02\n",
            " -1.04752825e+02 -1.29024262e+02  5.45854625e+01  5.49795869e+01\n",
            " -9.40100644e+01  7.03855581e+01  1.90135126e+02 -2.19311460e+02\n",
            "  1.05715401e+02 -5.74584183e+01  2.26281669e+02 -2.29116510e+02\n",
            "  4.47071836e+01  2.94124822e+01 -6.03100224e+01  2.21061014e+01\n",
            " -1.40710849e+02 -1.01883740e+02  1.32291870e+02  5.82604097e+01\n",
            "  1.98342141e+02 -5.56551641e+00 -1.15662503e+02 -3.57441305e+01\n",
            "  1.82392988e+02 -2.85035674e+01  4.39767011e+01 -4.53782830e+00\n",
            "  8.82000199e+01  4.10877033e+01  7.24699996e+00  4.09826154e-01\n",
            " -1.10643474e+02  1.74020385e+02  9.56705659e+01 -1.21475785e+00\n",
            " -2.16063819e+02 -3.67667325e+01 -2.33958493e+02 -1.61220835e+02\n",
            "  1.16899006e+02  2.08603110e+02 -9.32678813e+01  1.35916964e+02\n",
            "  1.88336012e+02  6.37558728e+01  1.38907183e+02 -1.17617961e+02\n",
            " -6.70574768e+01  2.02933593e+02 -8.04630144e-02 -8.40753656e+01\n",
            " -6.23874970e-01  8.42004223e+01  6.28982010e+01  1.36656598e+02\n",
            " -9.65738617e+01 -4.50961908e+01  1.18430581e+02  1.01203400e+02\n",
            "  1.89551390e+01 -1.64872884e+02 -1.29855435e+02  1.32554917e+02\n",
            " -6.81075510e+01 -1.59332114e+02 -1.53603842e+02 -3.78196236e+00\n",
            " -1.63165933e+01  7.93937072e+01 -2.31673973e+01  6.45022489e+01\n",
            "  7.60110223e+01  9.56172650e+01 -4.83706636e+01 -5.22852691e+01\n",
            "  8.65692815e+01 -5.52160397e+01  9.70131983e+00  6.83382049e+01\n",
            " -1.34539034e+02 -2.27321530e+01 -1.56386036e+02 -3.87277298e+01\n",
            " -5.89222827e+01  1.14835275e+02  9.64632849e+01  5.15524216e+01\n",
            " -2.48733305e+01 -5.45312673e+01  2.04557539e+01 -1.15714807e+02\n",
            "  8.03324735e+01  1.27743612e+01  1.46957515e+02 -1.27934317e+02\n",
            " -8.55977297e+01 -4.57659786e+01 -5.96917890e+01 -7.91938534e+01\n",
            " -1.35078809e+02 -1.03523359e+02 -5.46435565e+01  8.42164476e+01\n",
            " -5.29189973e+01  1.91801734e+01 -5.11760424e+01 -3.93018097e+01\n",
            " -3.56867652e+01  3.05814738e+01 -1.27743012e+01 -1.14350726e+01\n",
            " -2.64185868e+01 -4.96299148e+01 -5.43542041e+01  1.08695505e+01\n",
            " -2.91339287e+01  8.37491382e+00 -3.17023013e+01  2.56089513e+01\n",
            "  1.36236704e+02  1.55269826e+01 -6.42672065e+01  2.92613938e+01\n",
            " -1.79374284e+02 -2.36808043e+01  1.20979875e+02  8.88415013e+01\n",
            "  9.85413274e+01  1.94840784e+02  6.16145764e+01 -9.31564489e+01\n",
            "  3.30129014e+01  3.03745525e+01  1.03394221e+02 -6.48027023e+01\n",
            "  1.57156479e+02 -1.06862749e+01 -1.07026569e+01  2.18252101e+02\n",
            " -2.18941688e+01 -1.12018689e+02 -4.72801545e+01  2.82730652e+01\n",
            " -1.69420281e+01  4.51944266e+01 -5.46183060e+01  1.24953719e+02\n",
            " -6.27806280e+01 -6.33060054e+01 -1.05093212e+02 -1.64249989e+02\n",
            "  3.90729849e+01 -1.86941576e+02  6.99295315e+01  9.32357060e-01\n",
            " -9.72961751e-01 -4.74556498e+01  2.04345444e+02 -1.31444574e+02\n",
            "  1.86694497e+01  2.27411498e+02  1.34683645e+01 -9.41704615e+01\n",
            " -1.26269015e+02 -1.03912708e+01  3.60005602e+01  5.45258431e+01\n",
            "  7.03384296e+01  3.97121134e+01  1.03446010e+02 -9.90162351e+01\n",
            " -4.08673980e+01  5.54359982e+01  9.19583550e+01  8.93551819e+01\n",
            "  2.54922455e+00  2.81785865e+01  7.97177878e+01  3.83487279e+01\n",
            "  1.20485590e+02  1.94808012e+01  1.43094006e+01 -8.31478875e+01\n",
            " -6.17022215e+01  8.37600052e+01 -5.10020314e+01 -2.83148884e+01\n",
            "  1.83457991e+02  8.14214295e+01 -6.20808374e+01  1.17318017e+00\n",
            "  5.70198187e+01 -2.08379272e+01 -1.43423241e+02 -3.34122679e+01\n",
            " -1.28853522e+02 -1.91519806e+02  4.06442887e+01  9.48693891e+01\n",
            " -1.20194978e+02 -1.31394765e+02 -4.44691635e+01  2.51888495e+02\n",
            " -1.56754514e+02 -6.81499582e+00  2.71435545e+01 -1.56547784e+02\n",
            " -9.61334976e+01 -1.09911703e+02 -8.85007138e+01  1.40514380e+02\n",
            "  8.16546406e+01  1.43312258e+01  5.19181334e+01 -5.98546708e+01\n",
            "  4.32140010e+01  5.26547451e+01 -5.74270130e+01 -9.94831628e+01\n",
            "  4.39251549e+01 -8.77966588e+01  5.66967301e+01 -6.06163116e+01\n",
            " -7.52536557e+01 -1.05662196e+02  1.48794103e+02  5.22017033e+01\n",
            " -7.32074553e+00  1.11544321e+02  1.23918294e+02 -6.30175811e+01\n",
            "  9.22312961e+01  2.20355174e+01 -8.64699440e+01  1.80647165e+00\n",
            "  3.75640809e+01  1.30918230e+02 -2.69072773e+00  7.55945253e+01\n",
            "  1.17516341e+02  1.44149512e+02 -3.27073326e+01  9.37059165e-01\n",
            "  4.51699155e+01  1.30810362e+01  5.19553143e+01  4.66349377e+01\n",
            "  8.02405141e+01  5.28753764e+01  1.10161687e+01  2.45507809e+01\n",
            "  6.12294672e+01 -2.58620182e+02  6.50888383e+01  3.64197776e+01\n",
            "  1.04022106e+02  1.27894075e+02 -1.68569154e+02  5.25521315e+01\n",
            " -1.07576242e+02 -1.21436592e+02  1.81889087e+01 -3.99768147e+01\n",
            "  6.40103202e-01 -6.85258814e+01  4.90475126e+01 -4.13297732e+01\n",
            "  1.30319692e+00  6.40691602e+01 -6.56146032e+01  1.35497123e+02\n",
            " -9.25382035e+01 -9.51991262e+01  6.24243702e+01  9.40012064e+01\n",
            " -1.69823426e+02  6.32748743e+01  3.23964485e+01 -5.27350524e+01\n",
            " -9.21842873e+01  8.22221592e+01 -1.15834698e+01 -6.58550203e+01\n",
            "  3.67773451e+01 -5.66182439e+01 -8.77758610e+01  9.86528472e+01\n",
            " -3.13020452e+01 -7.40071457e+00 -8.42989116e+01 -1.01739522e+02\n",
            "  1.09499791e+02 -5.09918198e+01 -7.52402278e+01  4.59071428e+01\n",
            "  2.12395396e+01 -3.40617903e+01  1.15918450e+02 -2.62429679e+02\n",
            " -6.42414270e+01 -2.09528265e+01  1.58553154e+02  6.26376603e+01\n",
            "  9.31386829e+01 -1.20688433e+01 -2.18461863e+02 -1.22727639e+00\n",
            " -6.69365694e+01  6.39303227e+01 -2.30697537e+01 -1.60809004e+01\n",
            "  7.00115283e+01  4.74544465e+01 -2.16775389e+02 -6.54851932e+01\n",
            " -1.30064265e+02  7.25123064e+01 -1.04354141e+02 -2.36281048e+01\n",
            " -4.39501044e+01  1.53456673e+02  1.40628344e+02 -2.38626930e+01\n",
            "  1.55789586e+02 -3.31706110e+01 -3.59808927e+01 -6.73960334e+01\n",
            "  1.85462761e+02 -1.46310798e+02  1.46799817e+02 -6.36818235e+01\n",
            " -5.50538141e+01 -4.10106271e+01  4.13495380e+01 -1.32273705e+02\n",
            "  2.92243471e+01 -3.07628942e+01 -1.36446785e+02  3.27603753e-01\n",
            " -4.68049083e+01  1.35115756e+01  5.77734899e+01  3.00017172e+01\n",
            " -5.54588286e+01 -2.36788110e+01  6.84762158e+01  2.99631007e+01\n",
            "  1.30865821e+02 -4.31748026e+01 -2.79208104e+01 -1.02933265e+02\n",
            "  6.19973303e+01 -5.96650815e+01 -7.71944727e+01  4.24358761e+01\n",
            " -2.26690523e+01  2.53751321e+01  8.09135765e+01  7.82563203e+00\n",
            " -7.66897131e+01 -8.30398347e+01 -5.90336561e+01 -1.11892194e+02\n",
            "  9.76083074e+01  1.62555401e+02 -1.64855975e+01 -1.47286679e+01\n",
            " -1.44200573e+02 -4.41057888e+01 -2.14205192e+01 -1.94468658e+02\n",
            "  6.37050676e+00  3.94037010e+01 -1.86512913e+02  1.67970332e+02\n",
            " -1.53557442e+02  1.36180570e+01 -1.04484716e+02 -7.11707888e+01\n",
            "  3.00569166e+00  2.63775131e+02  7.52379722e+01 -7.20582432e+01\n",
            " -6.63137714e+01  5.84392086e+01 -9.99202083e+01  1.03398647e+02\n",
            " -1.15682627e+02  4.85073555e+01 -3.21571132e+00  1.69134322e+02\n",
            " -1.53681138e+02  2.95150833e+01 -1.31604144e+02  1.11500140e+02\n",
            "  2.30041920e+02 -1.03268294e+02 -6.34168453e+01 -7.61601489e+00\n",
            " -7.08195717e+01 -6.05457039e+01 -1.01115378e+02  7.06968798e+01\n",
            " -5.38665757e+01  7.75868532e+01 -2.39583241e+02  7.68666476e+01\n",
            " -3.69722691e+01  6.64383611e+01  2.47303762e+01 -8.95269304e+01\n",
            "  1.34548708e+02 -1.83211855e+01 -1.75733609e+01  2.09502217e+01\n",
            " -5.26018088e+00 -2.89103533e+01  1.19022720e+02 -7.48637990e+01\n",
            " -2.29917484e+02  1.74296941e+02 -4.85897485e+01 -6.81524615e+01\n",
            "  1.38194171e+02  1.30155038e+01 -5.32660469e+01 -2.02738665e+00\n",
            "  1.81353339e+01  8.30752341e+01 -2.09852012e+01 -8.15173544e+01\n",
            " -2.72292155e+01 -4.24413799e+01  3.18876609e+02  6.66380698e+00\n",
            " -3.62519403e+01 -1.25433882e+02 -5.01310944e+01  1.20695681e+02\n",
            " -8.18602552e+01 -7.33170495e+01  1.40842447e+02  6.44841592e+01\n",
            "  1.76720683e+01 -1.81224751e+01 -1.30121296e+01 -3.69698283e+01\n",
            "  4.24110458e+01  1.07419703e+02 -1.77713381e+02 -1.00353796e+02\n",
            " -1.70988349e+01 -6.95090335e+00 -4.88931650e+01  4.23992628e+01\n",
            "  9.70164418e+01  1.68707812e+02  1.03418317e+02  1.11498698e+02\n",
            "  1.66035047e+02 -1.16912144e+02 -6.80774069e+01 -2.86524651e+01\n",
            "  2.40707191e+01 -6.45620904e+01 -7.08600075e+01  6.92106932e+01\n",
            " -4.33180762e+01 -2.48433943e+02  3.06942895e+01  4.45674388e+00\n",
            " -5.06450046e+01  7.31771640e+01  1.43515254e+02 -1.90204808e+01\n",
            " -4.45256699e+01 -8.26936675e+00 -2.51817910e+01  3.47830521e+01\n",
            "  1.00708685e+02  1.23435204e+02 -5.29520020e+01  1.50160782e+01\n",
            " -6.40127323e+00  1.68819444e+01  5.52183588e+01 -6.52178003e+01\n",
            " -1.53080076e+02  1.11509225e+02 -7.25752446e+01 -7.44119398e+01\n",
            "  1.05697147e+02  9.90662446e+01  1.39717908e+02  2.22046995e+01\n",
            " -6.96757423e+01  6.08886625e+01  2.38309076e+00  8.13751464e+01\n",
            " -7.56613020e+01 -7.46483724e+01 -2.81427818e+02 -4.88252041e+00\n",
            " -1.46421576e+02 -1.33932279e+01 -2.31978998e+02  7.08032548e+01\n",
            "  1.14815101e+01  2.90804725e+01  7.04920950e+01 -1.32525101e+00\n",
            "  9.71325045e+01 -1.93559018e+01  7.30974826e+01  5.51827013e+01\n",
            " -1.00062354e+01 -1.86045135e+02  4.85340076e+00 -7.32942382e+00\n",
            " -2.08561395e+01 -6.26223418e+01 -1.31047837e+01 -1.05219676e+02\n",
            " -4.25089981e+01  1.38940765e+02 -1.01168471e+02  1.79561560e+02\n",
            "  2.63887716e+01 -1.31778235e+01 -4.34505928e+01  7.74822678e+01\n",
            "  8.18622938e+01 -1.47630889e+02  4.42107055e+01 -7.42261618e+01\n",
            "  2.09049735e+02  4.17182543e+01  8.82591533e+01  9.60110472e+01\n",
            " -1.38370160e+01 -3.15375212e+01  1.24401356e+02 -1.90604787e+02\n",
            "  1.06147520e+02 -1.76913367e+02  1.99784907e+02  2.69243472e+01\n",
            "  7.79134044e+01 -1.73396048e+02 -2.24656333e+02  2.34336303e+01\n",
            " -2.37489372e+01  1.64871598e+01  4.22457148e+01 -2.51282430e+02\n",
            "  4.39869267e+01 -2.35734919e+02 -1.68814804e+02  3.66223789e+01\n",
            " -1.40135978e+02  1.09958992e+02 -2.96051901e+00 -1.34847206e+01\n",
            " -1.12951772e+02  5.55555181e+01  1.42052681e+02 -1.02836416e+01\n",
            " -6.89164722e+00 -3.26137599e+01 -7.64083780e+00 -1.03876054e+02\n",
            " -1.19193485e+02 -9.87509838e+01  1.10114018e+02  1.80530272e+02\n",
            "  9.79639104e-01  1.10798712e+02  1.46586874e+02  6.37202801e+01\n",
            "  2.43604676e+01  1.25889160e+02  9.91266187e+01  1.09949089e+02\n",
            " -3.69153909e+01  9.17467260e+01  1.34925745e+02 -1.78166792e+02\n",
            " -8.12181985e+01  2.23713932e+02  1.49046701e+02 -1.59199953e+02\n",
            "  9.41944174e+01  7.21654563e+01  1.35444269e+01 -2.29734564e+01\n",
            " -1.39024265e+01  9.46194115e+01 -1.35756424e+02  6.34156623e+01\n",
            " -3.52726634e+01  1.18798692e+02  4.99236905e+01 -6.30158719e+01\n",
            " -7.18068119e+01  2.61700857e+01 -4.46111060e+01  5.68432524e+00\n",
            "  1.04388446e+02  1.66640594e+01  7.65524999e+01  2.24199454e+02\n",
            "  1.99999993e+01 -8.44617017e+01 -3.55975967e+01 -5.95925621e+01\n",
            "  1.64484367e+02 -2.15106786e+02 -6.52216044e+00 -7.15014212e+01\n",
            "  8.09468108e+01 -9.80503112e+01 -1.25659585e+01  1.32776856e+02\n",
            "  4.18633098e+01 -1.17959712e+02  6.89275730e+01  3.26900652e+01\n",
            " -4.00117616e+01  8.76172952e+01 -6.26176741e+01  2.61619765e+01\n",
            "  1.53453358e+00  3.72579356e+01  3.10166919e+01 -5.78850517e+01\n",
            " -1.01531204e+02  5.75874341e+01  3.31924259e+01 -1.43244013e+02\n",
            "  2.50616076e+01 -1.03821236e+02  4.62665420e+01  2.11189547e+01\n",
            " -2.08185210e+01 -2.59184299e+01  1.08939256e+02  4.59855046e+01\n",
            "  9.73485567e-01 -1.26270075e+02 -5.52806700e+00  3.53994713e+01\n",
            " -6.06347845e+01  8.45403039e+01 -1.31457159e+02  2.53936124e+01\n",
            "  1.39519285e+02  1.10563885e+02 -2.11508795e+01  6.06222886e+01\n",
            " -8.06011858e+01  1.77887758e+02  6.81570731e+01 -3.81628639e+01\n",
            " -5.80268410e+01 -1.08395605e+02  2.02488695e+02  6.94750852e+01\n",
            " -1.27335399e+01 -2.32035706e+02  8.56287297e+01 -6.75514465e+00\n",
            " -5.03293878e+01 -2.60106363e+02 -2.11036274e+00 -1.15229781e+02\n",
            " -3.60414733e+01 -7.93388612e+01  1.49958551e+01  6.43508368e+01\n",
            " -2.35534044e+02 -2.37991507e+02  1.60036432e+02 -5.39643091e+01\n",
            "  2.92981949e+01  3.70494402e+01  8.79042359e+01 -4.98279116e+01\n",
            " -7.19590089e+01  8.28268770e+01 -7.80639857e+01 -7.67629963e+01\n",
            "  4.53000899e+01  6.09345657e+01 -1.28014542e+02 -4.17922271e+01\n",
            "  1.14142013e+02  7.14100392e+01  3.24444238e+00 -5.19360529e+01\n",
            " -1.57033017e+02 -2.76545994e+02 -1.71599605e+01  1.15643021e+01\n",
            " -3.21159772e+01 -4.38448494e+00  1.66068906e+02  4.25015703e+01\n",
            " -2.65123877e+01 -6.00661447e+01  2.87924031e+01 -1.54737925e+02\n",
            "  1.45660998e+01  3.82085587e+01  3.15252683e+02 -6.17138872e+01\n",
            "  9.49298203e+01 -7.31255202e+01  1.16205860e+02  9.92598018e+01\n",
            " -3.85823012e+01 -9.65212221e+01  1.39099598e+02  1.58649325e+02\n",
            " -1.28905691e+02 -1.81668895e+02  1.00488180e+02 -1.81292372e+02]\n"
          ]
        }
      ]
    },
    {
      "cell_type": "code",
      "source": [
        "calculated_mean = np.mean(res)"
      ],
      "metadata": {
        "id": "pjEIbWYbGeeu"
      },
      "execution_count": 31,
      "outputs": []
    },
    {
      "cell_type": "code",
      "source": [
        "np.std(res)"
      ],
      "metadata": {
        "colab": {
          "base_uri": "https://localhost:8080/"
        },
        "id": "ugh3uinjGoQD",
        "outputId": "8610e8fe-622d-431f-cc11-2567e3678c83"
      },
      "execution_count": 32,
      "outputs": [
        {
          "output_type": "execute_result",
          "data": {
            "text/plain": [
              "np.float64(99.7762213016358)"
            ]
          },
          "metadata": {},
          "execution_count": 32
        }
      ]
    },
    {
      "cell_type": "code",
      "source": [
        "import seaborn as sns\n",
        "import matplotlib.pyplot as plt\n",
        "\n",
        "sns.histplot(data = res, color=\"yellow\", kde= True)\n",
        "plt.title(\"Normal Distibution Of Data\")\n",
        "plt.axvline(calculated_mean, color=\"red\", linestyle = \"dashed\", label = f\"Mean: {calculated_mean:.2f}\" )\n",
        "plt.legend()\n",
        "plt.show()"
      ],
      "metadata": {
        "colab": {
          "base_uri": "https://localhost:8080/",
          "height": 452
        },
        "id": "Hz5iySSPGuFq",
        "outputId": "8a590eeb-d565-4c2f-8d9b-4fc91120f674"
      },
      "execution_count": 42,
      "outputs": [
        {
          "output_type": "display_data",
          "data": {
            "text/plain": [
              "<Figure size 640x480 with 1 Axes>"
            ],
            "image/png": "[encoded data removed]"
          },
          "metadata": {}
        }
      ]
    },
    {
      "cell_type": "code",
      "source": [
        "sns.kdeplot(res, color='green')"
      ],
      "metadata": {
        "colab": {
          "base_uri": "https://localhost:8080/",
          "height": 450
        },
        "id": "69kSgAj6Jjlm",
        "outputId": "2d09e066-4548-4c6e-affc-b2b9955e177e"
      },
      "execution_count": 39,
      "outputs": [
        {
          "output_type": "execute_result",
          "data": {
            "text/plain": [
              "<Axes: ylabel='Density'>"
            ]
          },
          "metadata": {},
          "execution_count": 39
        },
        {
          "output_type": "display_data",
          "data": {
            "text/plain": [
              "<Figure size 640x480 with 1 Axes>"
            ],
            "image/png": "[encoded data removed]"
          },
          "metadata": {}
        }
      ]
    },
    {
      "cell_type": "markdown",
      "source": [
        "10. You are working as a data analyst for a retail company. The company has\n",
        "collected daily sales data for 2 years and wants you to identify the overall sales trend.\n",
        "\n",
        "daily_sales = [220, 245, 210, 265, 230, 250, 260, 275, 240, 255,\n",
        " 235, 260, 245, 250, 225, 270, 265, 255, 250, 260]\n",
        "\n",
        "● Explain how you would apply the Central Limit Theorem to estimate the average sales with a 95% confidence interval.\n",
        "\n",
        "● Write the Python code to compute the mean sales and its confidence interval."
      ],
      "metadata": {
        "id": "w_54M6oIF3XM"
      }
    },
    {
      "cell_type": "code",
      "source": [
        "import numpy as np\n",
        "\n",
        "daily_sales = [220, 245, 210, 265, 230, 250, 260, 275, 240, 255, 235, 260, 245, 250, 225, 270, 265, 255, 250, 260]\n",
        "sales_mean = np.mean(daily_sales)\n",
        "print(f\"Mean Sales : {sales_mean}\")"
      ],
      "metadata": {
        "colab": {
          "base_uri": "https://localhost:8080/"
        },
        "id": "7xDjz_oPauTc",
        "outputId": "91ce0ae2-14fa-4149-a373-8f8ac328b874"
      },
      "execution_count": 45,
      "outputs": [
        {
          "output_type": "stream",
          "name": "stdout",
          "text": [
            "Mean Sales : 248.25\n"
          ]
        }
      ]
    },
    {
      "cell_type": "code",
      "source": [],
      "metadata": {
        "id": "ziqskvG5a2fL"
      },
      "execution_count": null,
      "outputs": []
    }
  ]
}